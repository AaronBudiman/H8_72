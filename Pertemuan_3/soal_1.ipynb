{
 "cells": [
  {
   "cell_type": "code",
   "execution_count": 24,
   "metadata": {},
   "outputs": [],
   "source": [
    "unsorted_list = [41, 5, 1, 3, 89, 32]"
   ]
  },
  {
   "cell_type": "code",
   "execution_count": 12,
   "metadata": {},
   "outputs": [
    {
     "name": "stdout",
     "output_type": "stream",
     "text": [
      "1\n",
      "89\n"
     ]
    }
   ],
   "source": [
    "numbers.sort ()\n",
    "\n",
    "#minimum value\n",
    "print(numbers[0])\n",
    "\n",
    "#maximum value\n",
    "print(numbers[-1])"
   ]
  },
  {
   "cell_type": "code",
   "execution_count": 25,
   "metadata": {},
   "outputs": [
    {
     "name": "stdout",
     "output_type": "stream",
     "text": [
      "[1, 3, 5, 32, 41, 89]\n"
     ]
    }
   ],
   "source": [
    "sorted_list = []\n",
    "\n",
    "while unsorted_list:\n",
    "    minimum = unsorted_list[0]\n",
    "    for item in unsorted_list:\n",
    "        if item < minimum:\n",
    "            minimum = item\n",
    "    sorted_list.append(minimum)\n",
    "    unsorted_list.remove(minimum)\n",
    "print(sorted_list)"
   ]
  }
 ],
 "metadata": {
  "interpreter": {
   "hash": "42588fd11209419b7c81abe23e31a1d2101f60811b02170c268e57ebb57d5d9a"
  },
  "kernelspec": {
   "display_name": "Python 3.9.7 ('base')",
   "language": "python",
   "name": "python3"
  },
  "language_info": {
   "codemirror_mode": {
    "name": "ipython",
    "version": 3
   },
   "file_extension": ".py",
   "mimetype": "text/x-python",
   "name": "python",
   "nbconvert_exporter": "python",
   "pygments_lexer": "ipython3",
   "version": "3.9.7"
  },
  "orig_nbformat": 4
 },
 "nbformat": 4,
 "nbformat_minor": 2
}
