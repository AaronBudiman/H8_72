{
 "cells": [
  {
   "cell_type": "code",
   "execution_count": 2,
   "metadata": {},
   "outputs": [],
   "source": [
    "import numpy as np\n",
    "\n"
   ]
  },
  {
   "cell_type": "code",
   "execution_count": 5,
   "metadata": {},
   "outputs": [
    {
     "name": "stdout",
     "output_type": "stream",
     "text": [
      "[[4. 4. 4. 4. 4. 4. 4. 4. 4. 4.]\n",
      " [4. 4. 4. 4. 4. 4. 4. 4. 4. 4.]\n",
      " [4. 4. 4. 4. 4. 4. 4. 4. 4. 4.]\n",
      " [4. 4. 4. 4. 4. 4. 4. 4. 4. 4.]\n",
      " [4. 4. 4. 4. 4. 4. 4. 4. 4. 4.]\n",
      " [4. 4. 4. 4. 4. 4. 4. 4. 4. 4.]\n",
      " [4. 4. 4. 4. 4. 4. 4. 4. 4. 4.]\n",
      " [4. 4. 4. 4. 4. 4. 4. 4. 4. 4.]\n",
      " [4. 4. 4. 4. 4. 4. 4. 4. 4. 4.]\n",
      " [4. 4. 4. 4. 4. 4. 4. 4. 4. 4.]]\n"
     ]
    }
   ],
   "source": [
    "x = np.ones((10,10))*4\n",
    "print(x)"
   ]
  },
  {
   "cell_type": "code",
   "execution_count": 7,
   "metadata": {},
   "outputs": [
    {
     "name": "stdout",
     "output_type": "stream",
     "text": [
      "[[4. 4. 4. 4. 4. 4. 4. 4. 4. 4.]\n",
      " [4. 0. 0. 0. 0. 0. 0. 0. 0. 4.]\n",
      " [4. 0. 0. 0. 0. 0. 0. 0. 0. 4.]\n",
      " [4. 0. 0. 0. 0. 0. 0. 0. 0. 4.]\n",
      " [4. 0. 0. 0. 0. 0. 0. 0. 0. 4.]\n",
      " [4. 0. 0. 0. 0. 0. 0. 0. 0. 4.]\n",
      " [4. 0. 0. 0. 0. 0. 0. 0. 0. 4.]\n",
      " [4. 0. 0. 0. 0. 0. 0. 0. 0. 4.]\n",
      " [4. 0. 0. 0. 0. 0. 0. 0. 0. 4.]\n",
      " [4. 4. 4. 4. 4. 4. 4. 4. 4. 4.]]\n"
     ]
    }
   ],
   "source": [
    "x[1:-1,1:-1]=0\n",
    "print(x)"
   ]
  }
 ],
 "metadata": {
  "interpreter": {
   "hash": "42588fd11209419b7c81abe23e31a1d2101f60811b02170c268e57ebb57d5d9a"
  },
  "kernelspec": {
   "display_name": "Python 3.9.7 ('base')",
   "language": "python",
   "name": "python3"
  },
  "language_info": {
   "codemirror_mode": {
    "name": "ipython",
    "version": 3
   },
   "file_extension": ".py",
   "mimetype": "text/x-python",
   "name": "python",
   "nbconvert_exporter": "python",
   "pygments_lexer": "ipython3",
   "version": "3.9.7"
  },
  "orig_nbformat": 4
 },
 "nbformat": 4,
 "nbformat_minor": 2
}
